{
 "cells": [
  {
   "cell_type": "code",
   "execution_count": 11,
   "id": "458d970d",
   "metadata": {},
   "outputs": [
    {
     "name": "stdout",
     "output_type": "stream",
     "text": [
      "   Tahun           Cakupan  Tingkat_Inflasi\n",
      "4   2009  Prov. Jawa Barat             2.02\n",
      "5   2009          Nasional             2.78\n",
      "6   2010      Kota Bandung             4.53\n",
      "    Tahun           Cakupan  Tingkat_Inflasi\n",
      "16   2013  Prov. Jawa Barat             9.15\n",
      "17   2013          Nasional             8.38\n",
      "   Tahun           Cakupan  Tingkat_Inflasi\n",
      "0   2008      Kota Bandung            10.23\n",
      "1   2008  Prov. Jawa Barat            11.11\n",
      "2   2008          Nasional            11.06\n",
      "3   2009      Kota Bandung             2.11\n",
      "4   2009  Prov. Jawa Barat             2.02\n"
     ]
    }
   ],
   "source": [
    "# NIM/Nama  : 16521125/Gibran Fasha Ghazanfar\n",
    "# Tanggal    : 30 November 2021\n",
    "# Deskripsi : Program pengolah data mahasiswa\n",
    "\n",
    "#Kamus :\n",
    "\n",
    "#Algoritma :\n",
    "import pandas as pd\n",
    "import matplotlib as plt\n",
    "\n",
    "df = pd.read_csv(\"tingkatinflasi20082013.csv\")\n",
    "\n",
    "print(df [4:7])\n",
    "# Tahun Cakupan Tingkat_Inflasi\n",
    "# 4 2009 Prov. Jawa Barat 2.02\n",
    "# 5 2009 Nasional 2.78\n",
    "# 6 2010 Kota Bandung 4.53\n",
    "# mengambil data ke-17 hingga akhir\n",
    "print(df [16:])\n",
    "# Tahun Cakupan Tingkat_Inflasi\n",
    "# 16 2013 Prov. Jawa Barat 9.15\n",
    "# 17 2013 Nasional 8.38\n",
    "# mengambil 5 data pertama\n",
    "print(df [:5])"
   ]
  },
  {
   "cell_type": "code",
   "execution_count": null,
   "id": "0361bb44",
   "metadata": {},
   "outputs": [],
   "source": []
  },
  {
   "cell_type": "code",
   "execution_count": null,
   "id": "2f96510e",
   "metadata": {},
   "outputs": [],
   "source": []
  },
  {
   "cell_type": "code",
   "execution_count": null,
   "id": "f76c84b2",
   "metadata": {},
   "outputs": [],
   "source": []
  },
  {
   "cell_type": "code",
   "execution_count": null,
   "id": "04d83153",
   "metadata": {},
   "outputs": [],
   "source": []
  }
 ],
 "metadata": {
  "kernelspec": {
   "display_name": "Python 3 (ipykernel)",
   "language": "python",
   "name": "python3"
  },
  "language_info": {
   "codemirror_mode": {
    "name": "ipython",
    "version": 3
   },
   "file_extension": ".py",
   "mimetype": "text/x-python",
   "name": "python",
   "nbconvert_exporter": "python",
   "pygments_lexer": "ipython3",
   "version": "3.9.7"
  }
 },
 "nbformat": 4,
 "nbformat_minor": 5
}
